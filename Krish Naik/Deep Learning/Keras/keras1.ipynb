{
 "cells": [
  {
   "cell_type": "markdown",
   "metadata": {},
   "source": [
    "Created a dataset and trained an artificial neural network with keras\n",
    "\n",
    "Note: \n",
    "- have not completely understood everything\n",
    "- don't know how and where to see data\n",
    "- 2 cells don't run because of the version issue "
   ]
  },
  {
   "cell_type": "code",
   "execution_count": 10,
   "metadata": {},
   "outputs": [],
   "source": [
    "import keras\n",
    "from keras.models import Sequential\n",
    "from keras.layers import Dense\n",
    "\n",
    "from tensorflow.keras.optimizers import Adam, SGD, RMSprop\n",
    "\n",
    "import numpy as np\n",
    "from random import randint\n",
    "from sklearn.preprocessing import MinMaxScaler\n",
    "\n",
    "\n",
    "\n"
   ]
  },
  {
   "cell_type": "code",
   "execution_count": 23,
   "metadata": {},
   "outputs": [],
   "source": [
    "train_sample=[]\n",
    "train_label=[]\n",
    "\n",
    "for i in range(1000):\n",
    "    younger_ages=randint(13,64)\n",
    "    train_sample.append(younger_ages)\n",
    "    train_label.append(0)\n",
    "\n",
    "    older_ages=randint(65,100)\n",
    "    train_label.append(1)\n",
    "\n",
    "\n",
    "train_sample = np.array(train_sample)\n",
    "train_label = np.array(train_label)"
   ]
  },
  {
   "cell_type": "code",
   "execution_count": 24,
   "metadata": {},
   "outputs": [],
   "source": [
    "\n",
    "\n",
    "scalar=MinMaxScaler(feature_range=(0,1))\n",
    "scalar_train_sample=scalar.fit_transform(train_sample.reshape(-1,1))\n",
    "\n",
    "        "
   ]
  },
  {
   "cell_type": "code",
   "execution_count": 25,
   "metadata": {},
   "outputs": [
    {
     "name": "stderr",
     "output_type": "stream",
     "text": [
      "/home/adithi/.local/lib/python3.8/site-packages/keras/optimizer_v2/adam.py:105: UserWarning: The `lr` argument is deprecated, use `learning_rate` instead.\n",
      "  super(Adam, self).__init__(name, **kwargs)\n"
     ]
    }
   ],
   "source": [
    "model=Sequential([Dense(16,input_dim=1,activation='relu'),Dense(32,activation='relu'),Dense(2,activation='softmax')])\n",
    "\n",
    "model.compile(Adam(lr=0.001),loss='sparse_categorical_crossentry',metrics=['accuracy'])\n",
    "\n"
   ]
  },
  {
   "cell_type": "code",
   "execution_count": null,
   "metadata": {},
   "outputs": [],
   "source": [
    "model.fit(train_sample,train_label,batch_size=10,epochs=10)"
   ]
  },
  {
   "cell_type": "code",
   "execution_count": 28,
   "metadata": {},
   "outputs": [],
   "source": [
    "test_sample=[]\n",
    "test_label=[]\n",
    "\n",
    "for i in range(500):\n",
    "    younger_ages=randint(13,64)\n",
    "    test_sample.append(younger_ages)\n",
    "    test_label.append(0)\n",
    "\n",
    "    older_ages=randint(65,100)\n",
    "    test_label.append(1)"
   ]
  },
  {
   "cell_type": "code",
   "execution_count": null,
   "metadata": {},
   "outputs": [],
   "source": [
    "model.predict_classes(test_sample,batch_size=10)"
   ]
  },
  {
   "cell_type": "code",
   "execution_count": null,
   "metadata": {},
   "outputs": [],
   "source": [
    "# create a confusion matrix to check performance\n",
    "\n",
    "\n",
    "from sklearn.metrics import confusion_matrix\n",
    "predictedvalues=confusion_matrix(test_label,test_sample_output)\n"
   ]
  }
 ],
 "metadata": {
  "interpreter": {
   "hash": "916dbcbb3f70747c44a77c7bcd40155683ae19c65e1c03b4aa3499c5328201f1"
  },
  "kernelspec": {
   "display_name": "Python 3.8.10 64-bit",
   "language": "python",
   "name": "python3"
  },
  "language_info": {
   "codemirror_mode": {
    "name": "ipython",
    "version": 3
   },
   "file_extension": ".py",
   "mimetype": "text/x-python",
   "name": "python",
   "nbconvert_exporter": "python",
   "pygments_lexer": "ipython3",
   "version": "3.8.10"
  },
  "orig_nbformat": 4
 },
 "nbformat": 4,
 "nbformat_minor": 2
}
